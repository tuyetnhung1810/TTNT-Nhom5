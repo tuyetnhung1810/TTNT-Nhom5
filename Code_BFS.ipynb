{
  "nbformat": 4,
  "nbformat_minor": 0,
  "metadata": {
    "colab": {
      "provenance": [],
      "authorship_tag": "ABX9TyPrMau64f47Gzz1sTexdOnK",
      "include_colab_link": true
    },
    "kernelspec": {
      "name": "python3",
      "display_name": "Python 3"
    },
    "language_info": {
      "name": "python"
    }
  },
  "cells": [
    {
      "cell_type": "markdown",
      "metadata": {
        "id": "view-in-github",
        "colab_type": "text"
      },
      "source": [
        "<a href=\"https://colab.research.google.com/github/tuyetnhung1810/TTNT-Nhom5/blob/main/Code_BFS.ipynb\" target=\"_parent\"><img src=\"https://colab.research.google.com/assets/colab-badge.svg\" alt=\"Open In Colab\"/></a>"
      ]
    },
    {
      "cell_type": "markdown",
      "source": [],
      "metadata": {
        "id": "EdNCV0ZhpeH4"
      }
    },
    {
      "cell_type": "code",
      "source": [
        "from collections import deque\n",
        "\n",
        "# Bản đồ Sokoban\n",
        "grid = [\n",
        "    \"#######\",\n",
        "    \"#.....#\",\n",
        "    \"#.###.#\",\n",
        "    \"#.B.GP#\",\n",
        "    \"#.....#\",\n",
        "    \"#######\"\n",
        "]\n",
        "\n",
        "ROWS, COLS = len(grid), len(grid[0])\n",
        "\n",
        "# Tìm vị trí người chơi, hộp và đích\n",
        "player_start = None\n",
        "boxes_start = set()\n",
        "goals = set()\n",
        "\n",
        "for r in range(ROWS):\n",
        "    for c in range(COLS):\n",
        "        ch = grid[r][c]\n",
        "        if ch == 'P':\n",
        "            player_start = (r, c)\n",
        "        elif ch == 'B':\n",
        "            boxes_start.add((r, c))\n",
        "        elif ch == 'G':\n",
        "            goals.add((r, c))\n",
        "\n",
        "# 4 hướng: (delta_r, delta_c, tên hướng)\n",
        "directions = [\n",
        "    (-1, 0, 'Up'),\n",
        "    (1, 0, 'Down'),\n",
        "    (0, -1, 'Left'),\n",
        "    (0, 1, 'Right')\n",
        "]\n",
        "\n",
        "def is_solved(boxes, goals):\n",
        "    return boxes == goals\n",
        "\n",
        "# BFS setup\n",
        "visited = set()\n",
        "start_state = (player_start, frozenset(boxes_start))\n",
        "visited.add(start_state)\n",
        "queue = deque()\n",
        "queue.append((player_start, frozenset(boxes_start), 0))\n",
        "\n",
        "# Lưu cha và hướng đi từ cha đến con\n",
        "parent = {}\n",
        "move_dir = {}  # map state → direction string\n",
        "parent[start_state] = None\n",
        "move_dir[start_state] = None\n",
        "\n",
        "end_state = None\n",
        "\n",
        "while queue:\n",
        "    player, boxes, steps = queue.popleft()\n",
        "\n",
        "    if is_solved(boxes, goals):\n",
        "        end_state = (player, boxes)\n",
        "        print(\"Giải thành công sau\", steps, \"bước.\")\n",
        "        break\n",
        "    for dr, dc, dir_name in directions:\n",
        "        pr, pc = player[0] + dr, player[1] + dc\n",
        "        if not (0 <= pr < ROWS and 0 <= pc < COLS):\n",
        "            continue\n",
        "        if grid[pr][pc] == '#':\n",
        "            continue\n",
        "        if (pr, pc) in boxes:\n",
        "            # Người muốn đẩy hộp\n",
        "            br, bc = pr + dr, pc + dc\n",
        "            if not (0 <= br < ROWS and 0 <= bc < COLS):\n",
        "                continue\n",
        "            if grid[br][bc] == '#' or (br, bc) in boxes:\n",
        "                continue\n",
        "            new_boxes = set(boxes)\n",
        "            new_boxes.remove((pr, pc))\n",
        "            new_boxes.add((br, bc))\n",
        "            new_state = ((pr, pc), frozenset(new_boxes))\n",
        "            if new_state not in visited:\n",
        "                visited.add(new_state)\n",
        "                queue.append(((pr, pc), frozenset(new_boxes), steps + 1))\n",
        "                parent[new_state] = (player, boxes)\n",
        "                move_dir[new_state] = dir_name\n",
        "        else:\n",
        "            # Người đi bình thường\n",
        "            new_state = ((pr, pc), boxes)\n",
        "            if new_state not in visited:\n",
        "                visited.add(new_state)\n",
        "                queue.append(((pr, pc), boxes, steps + 1))\n",
        "                parent[new_state] = (player, boxes)\n",
        "                move_dir[new_state] = dir_name\n",
        "else:\n",
        "    print(\"Không tìm thấy đường đẩy hộp đến đích.\")\n",
        "\n",
        "\n",
        "if end_state:\n",
        "    directions_path = []\n",
        "    state = end_state\n",
        "    while state and move_dir[state] is not None:\n",
        "        directions_path.append(move_dir[state])\n",
        "        state = parent[state]\n",
        "    directions_path.reverse()\n",
        "\n",
        "    print(\"Đường đi:\")\n",
        "    print(\" → \".join(directions_path))\n"
      ],
      "metadata": {
        "colab": {
          "base_uri": "https://localhost:8080/"
        },
        "id": "j8tHzM7Prgz5",
        "outputId": "b35e3ca9-6769-4a2a-8401-d5c8ae9b935c"
      },
      "execution_count": null,
      "outputs": [
        {
          "output_type": "stream",
          "name": "stdout",
          "text": [
            "Giải thành công sau 8 bước.\n",
            "Đường đi:\n",
            "Down → Left → Left → Left → Left → Up → Right → Right\n"
          ]
        }
      ]
    }
  ]
}